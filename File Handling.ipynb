{
 "cells": [
  {
   "cell_type": "code",
   "execution_count": 1,
   "id": "5d7cf03c-9913-4ad0-9f1f-bcfc8c9d8aa4",
   "metadata": {},
   "outputs": [
    {
     "name": "stdout",
     "output_type": "stream",
     "text": [
      "\n",
      "ss\n",
      "t\n",
      " \n",
      "ii\n",
      "h\n",
      "\n"
     ]
    }
   ],
   "source": [
    "f=open(r\"E:\\pythonprogs\\samplefile2.txt\")\n",
    "print(f.read())"
   ]
  },
  {
   "cell_type": "code",
   "execution_count": 13,
   "id": "84ae1311-a995-4bbd-a0b0-9bd2f2d2cf66",
   "metadata": {},
   "outputs": [
    {
     "name": "stdout",
     "output_type": "stream",
     "text": [
      "this is a sample text\n",
      "\n"
     ]
    }
   ],
   "source": [
    "f=open(r\"E:\\pythonprogs\\samplefile1.txt\")\n",
    "print(f.read())"
   ]
  },
  {
   "cell_type": "code",
   "execution_count": 15,
   "id": "113d474f-d372-4553-8ddb-d0d64c1f791f",
   "metadata": {},
   "outputs": [
    {
     "name": "stdout",
     "output_type": "stream",
     "text": [
      "the rains in the andhrapradesh is heavy people are facing many problems regarding the situation .The weather conditions are changing time to time and the climate is too cool\n"
     ]
    }
   ],
   "source": [
    "f=open(r\"E:\\pythonprogs\\samplefile3.txt\")\n",
    "print(f.read())"
   ]
  },
  {
   "cell_type": "code",
   "execution_count": 17,
   "id": "5882242d-7fba-47ce-a8e8-97b5a1dcf90c",
   "metadata": {},
   "outputs": [
    {
     "name": "stdout",
     "output_type": "stream",
     "text": [
      "Jackfruit is considered to be a multiple aggregate fruit because it is formed by the fusion of multiple flowers in an inflorescence. The exterior rind is a green to yellow-green pigment. The outer hard covering is derived from the enlarged female flowers.\n",
      "\n"
     ]
    }
   ],
   "source": [
    "f=open(r\"E:\\textfiles\\demofile.txt\")\n",
    "print(f.read())"
   ]
  },
  {
   "cell_type": "code",
   "execution_count": 19,
   "id": "121dfcbe-60a4-4e57-8e7e-2bea3c83566e",
   "metadata": {},
   "outputs": [
    {
     "name": "stdout",
     "output_type": "stream",
     "text": [
      "the rains in the andhrapradesh is heavy people are facing many problems regarding the situation .The weather conditions are changing time to time and the climate is too cool\n"
     ]
    }
   ],
   "source": [
    "f=open(r\"E:\\textfiles\\regular.txt\")\n",
    "print(f.read())"
   ]
  },
  {
   "cell_type": "code",
   "execution_count": 3,
   "id": "fa9c051c-2392-472f-b869-eefd12c97005",
   "metadata": {},
   "outputs": [
    {
     "name": "stdout",
     "output_type": "stream",
     "text": [
      "variable is not declared\n",
      "this is first exception\n"
     ]
    }
   ],
   "source": [
    "try:\n",
    "    print(x)\n",
    "except NameError:\n",
    "       print(\"variable is not declared\")\n",
    "print(\"this is first exception\")\n",
    "       \n"
   ]
  },
  {
   "cell_type": "code",
   "execution_count": 9,
   "id": "ac221c4e-7cc4-46b5-a637-4a9692b5e14a",
   "metadata": {},
   "outputs": [
    {
     "name": "stdin",
     "output_type": "stream",
     "text": [
      "Value for n1:  15\n",
      "Value for n2:  2\n"
     ]
    },
    {
     "name": "stdout",
     "output_type": "stream",
     "text": [
      "7.5\n",
      "17\n",
      "150\n"
     ]
    }
   ],
   "source": [
    "try:\n",
    "    n1 = int(input(\"Value for n1: \"))\n",
    "    n2 = int(input(\"Value for n2: \"))\n",
    "    print(n1 / n2)\n",
    "except ZeroDivisionError:\n",
    "    print(\"Second value must be greater than 0\")\n",
    "except ValueError:\n",
    "    print(\"Both the values must be integers\")\n",
    "else:\n",
    "    print(n1 + n2)\n",
    "finally:\n",
    "    print(n1 * 10)\n"
   ]
  },
  {
   "cell_type": "code",
   "execution_count": null,
   "id": "cc2b673a-e1ab-4b02-a52e-4b25d6f398b3",
   "metadata": {},
   "outputs": [],
   "source": []
  }
 ],
 "metadata": {
  "kernelspec": {
   "display_name": "Python 3 (ipykernel)",
   "language": "python",
   "name": "python3"
  },
  "language_info": {
   "codemirror_mode": {
    "name": "ipython",
    "version": 3
   },
   "file_extension": ".py",
   "mimetype": "text/x-python",
   "name": "python",
   "nbconvert_exporter": "python",
   "pygments_lexer": "ipython3",
   "version": "3.12.7"
  }
 },
 "nbformat": 4,
 "nbformat_minor": 5
}
